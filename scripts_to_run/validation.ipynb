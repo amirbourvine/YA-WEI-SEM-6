{
 "cells": [
  {
   "cell_type": "code",
   "execution_count": 1,
   "metadata": {},
   "outputs": [
    {
     "name": "stdout",
     "output_type": "stream",
     "text": [
      "Requirement already satisfied: optuna in c:\\users\\ronen\\appdata\\local\\programs\\python\\python39\\lib\\site-packages (3.6.1)\n",
      "Requirement already satisfied: alembic>=1.5.0 in c:\\users\\ronen\\appdata\\local\\programs\\python\\python39\\lib\\site-packages (from optuna) (1.13.1)\n",
      "Requirement already satisfied: colorlog in c:\\users\\ronen\\appdata\\local\\programs\\python\\python39\\lib\\site-packages (from optuna) (6.8.2)\n",
      "Requirement already satisfied: numpy in c:\\users\\ronen\\appdata\\local\\programs\\python\\python39\\lib\\site-packages (from optuna) (1.26.3)\n",
      "Requirement already satisfied: packaging>=20.0 in c:\\users\\ronen\\appdata\\roaming\\python\\python39\\site-packages (from optuna) (23.2)\n",
      "Requirement already satisfied: sqlalchemy>=1.3.0 in c:\\users\\ronen\\appdata\\local\\programs\\python\\python39\\lib\\site-packages (from optuna) (2.0.25)\n",
      "Requirement already satisfied: tqdm in c:\\users\\ronen\\appdata\\local\\programs\\python\\python39\\lib\\site-packages (from optuna) (4.66.4)\n",
      "Requirement already satisfied: PyYAML in c:\\users\\ronen\\appdata\\local\\programs\\python\\python39\\lib\\site-packages (from optuna) (6.0.1)\n",
      "Requirement already satisfied: Mako in c:\\users\\ronen\\appdata\\local\\programs\\python\\python39\\lib\\site-packages (from alembic>=1.5.0->optuna) (1.3.5)\n",
      "Requirement already satisfied: typing-extensions>=4 in c:\\users\\ronen\\appdata\\local\\programs\\python\\python39\\lib\\site-packages (from alembic>=1.5.0->optuna) (4.9.0)\n",
      "Requirement already satisfied: greenlet!=0.4.17 in c:\\users\\ronen\\appdata\\local\\programs\\python\\python39\\lib\\site-packages (from sqlalchemy>=1.3.0->optuna) (3.0.3)\n",
      "Requirement already satisfied: colorama in c:\\users\\ronen\\appdata\\local\\programs\\python\\python39\\lib\\site-packages (from colorlog->optuna) (0.4.6)\n",
      "Requirement already satisfied: MarkupSafe>=0.9.2 in c:\\users\\ronen\\appdata\\local\\programs\\python\\python39\\lib\\site-packages (from Mako->alembic>=1.5.0->optuna) (2.1.5)\n"
     ]
    }
   ],
   "source": [
    "import sys\n",
    "!{sys.executable} -m pip install optuna"
   ]
  },
  {
   "cell_type": "code",
   "execution_count": 2,
   "metadata": {},
   "outputs": [],
   "source": [
    "import sys\n",
    "sys.path.append('../utils/')\n",
    "sys.path.append('../paviaUTools/')\n",
    "# sys.path.insert(1, '../utils')\n",
    "# sys.path.insert(2, '../paviaUTools')\n",
    "\n",
    "import matplotlib.pyplot as plt\n",
    "from datasetLoader import datasetLoader\n",
    "import os\n",
    "import numpy as np\n",
    "from whole_pipeline import whole_pipeline_all, whole_pipeline_divided, whole_pipeline_divided_parallel\n",
    "import torch\n",
    "from plots import *\n",
    "from weights_anal import *\n",
    "from MetaLearner import HDDOnBands\n",
    "import consts\n",
    "\n",
    "import gc\n",
    "\n",
    "torch.cuda.empty_cache()\n",
    "gc.collect()\n",
    "\n",
    "device = torch.device(\"cuda\" if torch.cuda.is_available() else \"cpu\")\n",
    "\n",
    "parent_dir = os.path.join(os.getcwd(),\"..\")\n",
    "csv_path = os.path.join(parent_dir, 'datasets', 'paviaU.csv')\n",
    "gt_path = os.path.join(parent_dir, 'datasets', 'paviaU_gt.csv')\n",
    "# csv_path = os.path.join(parent_dir, 'datasets', 'pavia.csv')\n",
    "# gt_path = os.path.join(parent_dir, 'datasets', 'pavia_gt.csv')\n",
    "\n",
    "dsl = datasetLoader(csv_path, gt_path)\n",
    "\n",
    "df = dsl.read_dataset(gt=False)\n",
    "X = np.array(df)\n",
    "X = X.reshape((610,340, 103))\n",
    "# X = X.reshape((1096, 715, 102))\n",
    "\n",
    "df = dsl.read_dataset(gt=True)\n",
    "y = np.array(df)\n",
    "\n",
    "X = torch.from_numpy(X)\n",
    "y = torch.from_numpy(y)\n",
    "\n",
    "X = X.to(device)\n",
    "y = y.to(device)"
   ]
  },
  {
   "cell_type": "code",
   "execution_count": 3,
   "metadata": {},
   "outputs": [],
   "source": [
    "factor = 7\n",
    "reps = 5\n",
    "min_hyperparam = 0.1\n",
    "max_hyperparam = 10"
   ]
  },
  {
   "cell_type": "code",
   "execution_count": 4,
   "metadata": {},
   "outputs": [],
   "source": [
    "import optuna\n",
    "\n",
    "def evaluate(c):\n",
    "    torch.cuda.empty_cache()\n",
    "    gc.collect()\n",
    "\n",
    "    consts.CONST_C = c\n",
    "\n",
    "    avg_acc_test = 0.0\n",
    "    for _ in range(reps):\n",
    "        train_acc,test_acc, test_preds,test_gt = whole_pipeline_all(X,y, factor, factor, is_normalize_each_band=True, method_label_patch='most_common')\n",
    "        avg_acc_test += test_acc/reps\n",
    "\n",
    "    score = avg_acc_test\n",
    "    return score\n",
    "\n",
    "# Define the objective function for Optuna\n",
    "def objective(trial):\n",
    "    # Suggest a value for the hyperparameter within a given range\n",
    "    hyperparameter = trial.suggest_float('c', min_hyperparam, max_hyperparam)\n",
    "    \n",
    "    # Evaluate the hyperparameter\n",
    "    score = evaluate(hyperparameter)\n",
    "    \n",
    "    return score\n"
   ]
  },
  {
   "cell_type": "code",
   "execution_count": 5,
   "metadata": {},
   "outputs": [
    {
     "name": "stderr",
     "output_type": "stream",
     "text": [
      "[I 2024-06-19 12:00:26,562] A new study created in memory with name: no-name-e1253c35-9506-48f4-9e97-2eecce375d32\n"
     ]
    },
    {
     "name": "stdout",
     "output_type": "stream",
     "text": [
      "XXXXXXX IN METHOD XXXXXXXXX\n",
      "WHOLE METHOD TIME:  1.33872652053833\n",
      "XXXXXXX IN CLASSIFICATION XXXXXXXXX\n",
      "total classified:  36108\n",
      "total classified:  6666\n",
      "Train Accuracy:  0.9296554780104131\n",
      "Test Accuracy:  0.5258025802580258\n",
      "XXXXXXX IN METHOD XXXXXXXXX\n",
      "WHOLE METHOD TIME:  1.2226407527923584\n",
      "XXXXXXX IN CLASSIFICATION XXXXXXXXX\n",
      "total classified:  33868\n",
      "total classified:  8906\n",
      "Train Accuracy:  0.9263021140899964\n",
      "Test Accuracy:  0.6648326970581631\n",
      "XXXXXXX IN METHOD XXXXXXXXX\n",
      "WHOLE METHOD TIME:  0.9181597232818604\n",
      "XXXXXXX IN CLASSIFICATION XXXXXXXXX\n",
      "total classified:  33508\n",
      "total classified:  9266\n",
      "Train Accuracy:  0.9282260952608332\n",
      "Test Accuracy:  0.6772069933088711\n",
      "XXXXXXX IN METHOD XXXXXXXXX\n",
      "WHOLE METHOD TIME:  1.108297348022461\n",
      "XXXXXXX IN CLASSIFICATION XXXXXXXXX\n",
      "total classified:  34695\n",
      "total classified:  8079\n",
      "Train Accuracy:  0.9252053610030264\n",
      "Test Accuracy:  0.5744522836984776\n",
      "XXXXXXX IN METHOD XXXXXXXXX\n"
     ]
    }
   ],
   "source": [
    "# Create a study object and specify the direction of optimization\n",
    "study = optuna.create_study(direction='maximize')  # or 'maximize' depending on your evaluation function\n",
    "\n",
    "# Start the optimization\n",
    "study.optimize(objective, n_trials=100)\n",
    "\n",
    "# Print the best hyperparameter and its corresponding score\n",
    "print(\"Best Hyperparameter: \", study.best_params['c'])\n",
    "print(\"Best Score: \", study.best_value)\n"
   ]
  }
 ],
 "metadata": {
  "kernelspec": {
   "display_name": "Python 3",
   "language": "python",
   "name": "python3"
  },
  "language_info": {
   "codemirror_mode": {
    "name": "ipython",
    "version": 3
   },
   "file_extension": ".py",
   "mimetype": "text/x-python",
   "name": "python",
   "nbconvert_exporter": "python",
   "pygments_lexer": "ipython3",
   "version": "3.9.13"
  }
 },
 "nbformat": 4,
 "nbformat_minor": 2
}
