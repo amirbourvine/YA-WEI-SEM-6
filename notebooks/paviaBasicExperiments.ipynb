{
 "cells": [
  {
   "cell_type": "code",
   "execution_count": 2,
   "metadata": {},
   "outputs": [],
   "source": [
    "import sys\n",
    "sys.path.append('../utils/')\n",
    "sys.path.append('../paviaUTools/')\n",
    "\n",
    "from datasetLoader import datasetLoader\n",
    "import os\n",
    "import numpy as np\n",
    "from whole_pipeline import whole_pipeline_all, whole_pipeline_divided, whole_pipeline_divided_parallel\n",
    "import torch\n",
    "\n",
    "import gc\n",
    "torch.cuda.empty_cache()\n",
    "gc.collect()"
   ]
  },
  {
   "cell_type": "code",
   "execution_count": 3,
   "metadata": {},
   "outputs": [],
   "source": [
    "parent_dir = os.path.join(os.getcwd(),\"..\")\n",
    "# csv_path = os.path.join(parent_dir, 'datasets', 'paviaU.csv')\n",
    "# gt_path = os.path.join(parent_dir, 'datasets', 'paviaU_gt.csv')\n",
    "csv_path = os.path.join(parent_dir, 'datasets', 'pavia.csv')\n",
    "gt_path = os.path.join(parent_dir, 'datasets', 'pavia_gt.csv')\n",
    "\n",
    "dsl = datasetLoader(csv_path, gt_path)\n",
    "\n",
    "df = dsl.read_dataset(gt=False)\n",
    "X = np.array(df)\n",
    "# X = X.reshape((610,340, 103))\n",
    "X = X.reshape((1096, 715, 102))\n",
    "\n",
    "df = dsl.read_dataset(gt=True)\n",
    "y = np.array(df)\n",
    "\n",
    "factor = 29\n",
    "rows_factor = factor\n",
    "cols_factor = factor\n",
    "\n",
    "X = torch.from_numpy(X)\n",
    "y = torch.from_numpy(y)"
   ]
  },
  {
   "cell_type": "code",
   "execution_count": 6,
   "metadata": {},
   "outputs": [
    {
     "name": "stdout",
     "output_type": "stream",
     "text": [
      "tensor([8.9361e+08, 8.9042e+08, 8.8758e+08])\n",
      "########################\n",
      "[tensor([ 2, 90], dtype=torch.int32), tensor([ 2, 91], dtype=torch.int32), tensor([ 2, 94], dtype=torch.int32)]\n"
     ]
    }
   ],
   "source": [
    "from MetaLearner import HDDOnBands\n",
    "\n",
    "weights, dist_batches = HDDOnBands.createMinSimilarityBasedBatches(X,3)\n",
    "\n",
    "print(weights)\n",
    "print(\"########################\")\n",
    "print(dist_batches)"
   ]
  },
  {
   "cell_type": "code",
   "execution_count": 4,
   "metadata": {},
   "outputs": [],
   "source": [
    "# whole_pipeline_divided_parallel(X,y, rows_factor, cols_factor, is_normalize_each_band=True, method_label_patch='center', weights=weights)"
   ]
  },
  {
   "cell_type": "code",
   "execution_count": 8,
   "metadata": {},
   "outputs": [
    {
     "name": "stdout",
     "output_type": "stream",
     "text": [
      "TOTAL TIME FOR METHOD:  8.528132200241089\n",
      "Train Accuracy:  0.9575578560981904\n",
      "Test Accuracy:  0.9434606694340812\n"
     ]
    }
   ],
   "source": [
    "whole_pipeline_divided_parallel(X,y, rows_factor, cols_factor, is_normalize_each_band=True, method_label_patch='center', weights=weights, distance_batches= dist_batches)"
   ]
  }
 ],
 "metadata": {
  "kernelspec": {
   "display_name": "Python 3",
   "language": "python",
   "name": "python3"
  },
  "language_info": {
   "codemirror_mode": {
    "name": "ipython",
    "version": 3
   },
   "file_extension": ".py",
   "mimetype": "text/x-python",
   "name": "python",
   "nbconvert_exporter": "python",
   "pygments_lexer": "ipython3",
   "version": "3.10.6"
  }
 },
 "nbformat": 4,
 "nbformat_minor": 2
}
