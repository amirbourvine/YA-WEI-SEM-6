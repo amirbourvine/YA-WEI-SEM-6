{
 "cells": [
  {
   "cell_type": "code",
   "execution_count": 1,
   "metadata": {},
   "outputs": [
    {
     "name": "stdout",
     "output_type": "stream",
     "text": [
      "device:  cpu\n",
      "device:  cpu\n"
     ]
    }
   ],
   "source": [
    "import sys\n",
    "sys.path.append('../utils/')\n",
    "sys.path.append('../paviaUTools/')\n",
    "\n",
    "from datasetLoader import datasetLoader\n",
    "import os\n",
    "import numpy as np\n",
    "from whole_pipeline import whole_pipeline_all, whole_pipeline_divided\n",
    "import torch"
   ]
  },
  {
   "cell_type": "code",
   "execution_count": 2,
   "metadata": {},
   "outputs": [],
   "source": [
    "parent_dir = os.path.join(os.getcwd(),\"..\")\n",
    "csv_path = os.path.join(parent_dir, 'datasets', 'paviaU.csv')\n",
    "gt_path = os.path.join(parent_dir, 'datasets', 'paviaU_gt.csv')\n",
    "\n",
    "dsl = datasetLoader(csv_path, gt_path)\n",
    "\n",
    "df = dsl.read_dataset(gt=False)\n",
    "X = np.array(df)\n",
    "X = X.reshape((610,340, 103))\n",
    "\n",
    "df = dsl.read_dataset(gt=True)\n",
    "y = np.array(df)\n",
    "\n",
    "factor = 11\n",
    "rows_factor = factor\n",
    "cols_factor = factor\n",
    "\n",
    "X = torch.from_numpy(X)\n",
    "y = torch.from_numpy(y)"
   ]
  },
  {
   "cell_type": "code",
   "execution_count": 3,
   "metadata": {},
   "outputs": [],
   "source": [
    "from MetaLearner import HDDOnBands\n",
    "\n",
    "weights, dist_batches = HDDOnBands.createUniformWeightedBatches(X)\n",
    "#weights, dist_batches = HDDOnBands.createL1WeightedBatches(X)"
   ]
  },
  {
   "cell_type": "code",
   "execution_count": 4,
   "metadata": {},
   "outputs": [
    {
     "name": "stdout",
     "output_type": "stream",
     "text": [
      "TOTAL TIME FOR METHOD:  11.327351331710815\n",
      "Train Accuracy:  0.7968312674930028\n",
      "Test Accuracy:  0.682218474798576\n"
     ]
    }
   ],
   "source": [
    "whole_pipeline_divided(X,y, rows_factor, cols_factor, is_normalize_each_band=True, method_label_patch='center', weights=weights)"
   ]
  },
  {
   "cell_type": "code",
   "execution_count": 4,
   "metadata": {},
   "outputs": [
    {
     "name": "stdout",
     "output_type": "stream",
     "text": [
<<<<<<< HEAD
      "DONE ITER. #1 of 103\n",
      "DONE ITER. #2 of 103\n",
      "DONE ITER. #3 of 103\n",
      "DONE ITER. #4 of 103\n",
      "DONE ITER. #5 of 103\n",
      "DONE ITER. #6 of 103\n",
      "DONE ITER. #7 of 103\n",
      "DONE ITER. #8 of 103\n",
      "DONE ITER. #9 of 103\n",
      "DONE ITER. #10 of 103\n",
      "DONE ITER. #11 of 103\n",
      "DONE ITER. #12 of 103\n",
      "DONE ITER. #13 of 103\n",
      "DONE ITER. #14 of 103\n",
      "DONE ITER. #15 of 103\n",
      "DONE ITER. #16 of 103\n",
      "DONE ITER. #17 of 103\n",
      "DONE ITER. #18 of 103\n",
      "DONE ITER. #19 of 103\n",
      "DONE ITER. #20 of 103\n",
      "DONE ITER. #21 of 103\n",
      "DONE ITER. #22 of 103\n",
      "DONE ITER. #23 of 103\n",
      "DONE ITER. #24 of 103\n",
      "DONE ITER. #25 of 103\n",
      "DONE ITER. #26 of 103\n",
      "DONE ITER. #27 of 103\n",
      "DONE ITER. #28 of 103\n",
      "DONE ITER. #29 of 103\n",
      "DONE ITER. #30 of 103\n",
      "DONE ITER. #31 of 103\n",
      "DONE ITER. #32 of 103\n",
      "DONE ITER. #33 of 103\n",
      "DONE ITER. #34 of 103\n",
      "DONE ITER. #35 of 103\n",
      "DONE ITER. #36 of 103\n",
      "DONE ITER. #37 of 103\n",
      "DONE ITER. #38 of 103\n",
      "DONE ITER. #39 of 103\n",
      "DONE ITER. #40 of 103\n",
      "DONE ITER. #41 of 103\n",
      "DONE ITER. #42 of 103\n",
      "DONE ITER. #43 of 103\n",
      "DONE ITER. #44 of 103\n",
      "DONE ITER. #45 of 103\n",
      "DONE ITER. #46 of 103\n",
      "DONE ITER. #47 of 103\n",
      "DONE ITER. #48 of 103\n",
      "DONE ITER. #49 of 103\n",
      "DONE ITER. #50 of 103\n",
      "DONE ITER. #51 of 103\n",
      "DONE ITER. #52 of 103\n",
      "DONE ITER. #53 of 103\n",
      "DONE ITER. #54 of 103\n",
      "DONE ITER. #55 of 103\n",
      "DONE ITER. #56 of 103\n",
      "DONE ITER. #57 of 103\n",
      "DONE ITER. #58 of 103\n",
      "DONE ITER. #59 of 103\n",
      "DONE ITER. #60 of 103\n",
      "DONE ITER. #61 of 103\n",
      "DONE ITER. #62 of 103\n",
      "DONE ITER. #63 of 103\n",
      "DONE ITER. #64 of 103\n",
      "DONE ITER. #65 of 103\n",
      "DONE ITER. #66 of 103\n",
      "DONE ITER. #67 of 103\n",
      "DONE ITER. #68 of 103\n",
      "DONE ITER. #69 of 103\n",
      "DONE ITER. #70 of 103\n",
      "DONE ITER. #71 of 103\n",
      "DONE ITER. #72 of 103\n",
      "DONE ITER. #73 of 103\n",
      "DONE ITER. #74 of 103\n",
      "DONE ITER. #75 of 103\n",
      "DONE ITER. #76 of 103\n",
      "DONE ITER. #77 of 103\n",
      "DONE ITER. #78 of 103\n",
      "DONE ITER. #79 of 103\n",
      "DONE ITER. #80 of 103\n",
      "DONE ITER. #81 of 103\n",
      "DONE ITER. #82 of 103\n",
      "DONE ITER. #83 of 103\n",
      "DONE ITER. #84 of 103\n",
      "DONE ITER. #85 of 103\n",
      "DONE ITER. #86 of 103\n",
      "DONE ITER. #87 of 103\n",
      "DONE ITER. #88 of 103\n",
      "DONE ITER. #89 of 103\n",
      "DONE ITER. #90 of 103\n",
      "DONE ITER. #91 of 103\n",
      "DONE ITER. #92 of 103\n",
      "DONE ITER. #93 of 103\n",
      "DONE ITER. #94 of 103\n",
      "DONE ITER. #95 of 103\n",
      "DONE ITER. #96 of 103\n",
      "DONE ITER. #97 of 103\n",
      "DONE ITER. #98 of 103\n",
      "DONE ITER. #99 of 103\n",
      "DONE ITER. #100 of 103\n",
      "DONE ITER. #101 of 103\n",
      "DONE ITER. #102 of 103\n",
      "DONE ITER. #103 of 103\n",
      "TOTAL TIME FOR METHOD:  1539.718632698059\n",
      "Train Accuracy:  0.9090246203997598\n",
      "Test Accuracy:  0.6413144091329837\n"
     ]
    }
   ],
   "source": [
   ]
  }
 ],
 "metadata": {
  "kernelspec": {
   "display_name": "Python 3",
   "language": "python",
   "name": "python3"
  },
  "language_info": {
   "codemirror_mode": {
    "name": "ipython",
    "version": 3
   },
   "file_extension": ".py",
   "mimetype": "text/x-python",
   "name": "python",
   "nbconvert_exporter": "python",
   "pygments_lexer": "ipython3",
   "version": "undefined.undefined.undefined"
  }
 },
 "nbformat": 4,
 "nbformat_minor": 2
}
