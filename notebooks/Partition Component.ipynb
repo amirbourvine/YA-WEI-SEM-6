{
 "cells": [
  {
   "cell_type": "code",
   "execution_count": 19,
   "metadata": {},
   "outputs": [],
   "source": [
    "import sys\n",
    "sys.path.append('../utils/')\n",
    "sys.path.append('../paviaUTools/')\n",
    "\n",
    "import matplotlib.pyplot as plt\n",
    "from datasetLoader import datasetLoader\n",
    "import os\n",
    "import numpy as np\n",
    "from whole_pipeline import whole_pipeline_all, whole_pipeline_divided, whole_pipeline_divided_parallel\n",
    "import torch\n",
    "from plots import *\n",
    "from weights_anal import *\n",
    "\n",
    "import gc\n",
    "torch.cuda.empty_cache()\n",
    "gc.collect()\n",
    "\n",
    "%matplotlib inline\n",
    "\n",
    "device = torch.device(\"cuda\" if torch.cuda.is_available() else \"cpu\")"
   ]
  },
  {
   "cell_type": "code",
   "execution_count": 20,
   "metadata": {},
   "outputs": [],
   "source": [
    "parent_dir = os.path.join(os.getcwd(),\"..\")\n",
    "# csv_path = os.path.join(parent_dir, 'datasets', 'paviaU.csv')\n",
    "# gt_path = os.path.join(parent_dir, 'datasets', 'paviaU_gt.csv')\n",
    "# csv_path = os.path.join(parent_dir, 'datasets', 'pavia.csv')\n",
    "# gt_path = os.path.join(parent_dir, 'datasets', 'pavia_gt.csv')\n",
    "csv_path = os.path.join(parent_dir, 'datasets', 'KSC.csv')\n",
    "gt_path = os.path.join(parent_dir, 'datasets', 'KSC_gt.csv')\n",
    "\n",
    "dsl = datasetLoader(csv_path, gt_path)\n",
    "\n",
    "df = dsl.read_dataset(gt=False)\n",
    "X = np.array(df)\n",
    "# X = X.reshape((610,340, 103))\n",
    "# X = X.reshape((1096, 715, 102))\n",
    "X = X.reshape((512, 614, 176))\n",
    "\n",
    "df = dsl.read_dataset(gt=True)\n",
    "y = np.array(df)\n",
    "\n",
    "factor = 7\n",
    "rows_factor = factor\n",
    "cols_factor = factor\n",
    "\n",
    "X = torch.from_numpy(X)\n",
    "y = torch.from_numpy(y)\n",
    "\n",
    "X = X.to(device)\n",
    "y = y.to(device)"
   ]
  },
  {
   "cell_type": "code",
   "execution_count": 21,
   "metadata": {},
   "outputs": [],
   "source": [
    "# import gc\n",
    "# torch.cuda.empty_cache()\n",
    "# gc.collect()\n",
    "\n",
    "# distances = HDDOnBands.run(X)\n",
    "\n",
    "# show_distances(distances)\n",
    "\n",
    "\n",
    "# weights, dist_batches = HDDOnBands.createL1WeightedBatches(X, normalize=False)\n",
    "\n",
    "# show_weights(weights, is_normalized=False)\n",
    "\n",
    "# levels = find_levels(weights)\n",
    "# show_weights(levels, is_normalized=False)"
   ]
  },
  {
   "cell_type": "code",
   "execution_count": 22,
   "metadata": {},
   "outputs": [
    {
     "name": "stdout",
     "output_type": "stream",
     "text": [
      "XXXXXXX IN METHOD XXXXXXXXX\n",
      "WHOLE METHOD TIME:  22.108662843704224\n",
      "XXXXXXX IN CLASSIFICATION XXXXXXXXX\n",
      "total classified:  4086\n",
      "total classified:  1117\n",
      "Train Accuracy:  0.9977973568281938\n",
      "Test Accuracy:  0.7466427931960609\n"
     ]
    }
   ],
   "source": [
    "import gc\n",
    "torch.cuda.empty_cache()\n",
    "gc.collect()\n",
    "\n",
    "train_acc,test_acc, test_preds,test_gt = whole_pipeline_all(X,y, rows_factor, cols_factor, is_normalize_each_band=True, method_label_patch='most_common')\n",
    "\n",
    "# confusion_mat(test_gt,test_preds, range(1,12))\n"
   ]
  },
  {
   "cell_type": "code",
   "execution_count": 23,
   "metadata": {},
   "outputs": [],
   "source": [
    "# import gc\n",
    "# torch.cuda.empty_cache()\n",
    "# gc.collect()\n",
    "\n",
    "# weights, dist_batches = HDDOnBands.createUniformWeightedBatches(X, clusters_amount=2)\n",
    "\n",
    "\n",
    "# train_acc,test_acc, test_preds,test_gt = whole_pipeline_divided_parallel(X,y, rows_factor, cols_factor, is_normalize_each_band=True, method_label_patch='most_common', weights=weights, distance_batches= dist_batches)\n",
    "\n",
    "# confusion_mat(test_gt, test_preds, range(1,10))\n"
   ]
  }
 ],
 "metadata": {
  "kernelspec": {
   "display_name": "Python 3",
   "language": "python",
   "name": "python3"
  },
  "language_info": {
   "codemirror_mode": {
    "name": "ipython",
    "version": 3
   },
   "file_extension": ".py",
   "mimetype": "text/x-python",
   "name": "python",
   "nbconvert_exporter": "python",
   "pygments_lexer": "ipython3",
   "version": "3.8.0"
  }
 },
 "nbformat": 4,
 "nbformat_minor": 2
}
