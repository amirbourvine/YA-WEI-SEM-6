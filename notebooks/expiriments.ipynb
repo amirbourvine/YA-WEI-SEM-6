{
 "cells": [
  {
   "cell_type": "code",
   "execution_count": 1,
   "metadata": {},
   "outputs": [
    {
     "name": "stdout",
     "output_type": "stream",
     "text": [
      "device:  cpu\n",
      "device:  cpu\n"
     ]
    }
   ],
   "source": [
    "import sys\n",
    "sys.path.append('../utils/')\n",
    "\n",
    "from datasetLoader import datasetLoader\n",
    "import os\n",
    "import numpy as np\n",
    "from whole_pipeline import whole_pipeline_all, whole_pipeline_divided\n",
    "import torch"
   ]
  },
  {
   "cell_type": "code",
   "execution_count": 2,
   "metadata": {},
   "outputs": [],
   "source": [
    "parent_dir = os.path.join(os.getcwd(),\"..\")\n",
    "csv_path = os.path.join(parent_dir, 'datasets', 'paviaU.csv')\n",
    "gt_path = os.path.join(parent_dir, 'datasets', 'paviaU_gt.csv')\n",
    "\n",
    "dsl = datasetLoader(csv_path, gt_path)\n",
    "\n",
    "df = dsl.read_dataset(gt=False)\n",
    "X = np.array(df)\n",
    "X = X.reshape((610,340, 103))\n",
    "\n",
    "df = dsl.read_dataset(gt=True)\n",
    "y = np.array(df)\n",
    "\n",
    "factor = 31\n",
    "rows_factor = factor\n",
    "cols_factor = factor\n",
    "\n",
    "X = torch.from_numpy(X)\n",
    "y = torch.from_numpy(y)"
   ]
  },
  {
   "cell_type": "code",
   "execution_count": 3,
   "metadata": {},
   "outputs": [
    {
     "name": "stdout",
     "output_type": "stream",
     "text": [
      "tmp.shape:  torch.Size([103, 207400])\n",
      "distances.shape:  torch.Size([103, 103])\n"
     ]
    }
   ],
   "source": [
    "from MetaLearner import HDDOnBands\n",
    "\n",
    "hdd_on_bands = HDDOnBands.run(X)\n",
    "\n",
    "# print(hdd_on_bands)"
   ]
  },
  {
   "cell_type": "code",
   "execution_count": 4,
   "metadata": {},
   "outputs": [
    {
     "name": "stdout",
     "output_type": "stream",
     "text": [
      "XXXXXXX IN METHOD XXXXXXXXX\n",
      "WHOLE METHOD TIME:  1.0497326850891113\n",
      "XXXXXXX IN CLASSIFICATION XXXXXXXXX\n",
      "Train Accuracy:  0.839742914339901\n",
      "Test Accuracy:  0.5803775150383738\n",
      "WHOLE CLASSIFICATION TIME:  0.02297496795654297\n"
     ]
    }
   ],
   "source": [
    "# old version- using whole X as data\n",
    "whole_pipeline_all(X,y, rows_factor, cols_factor, is_normalize_each_band=True, method_label_patch='center')"
   ]
  },
  {
   "cell_type": "code",
   "execution_count": 5,
   "metadata": {},
   "outputs": [
    {
     "name": "stdout",
     "output_type": "stream",
     "text": [
      "TOTAL TIME FOR METHOD:  20.641441345214844\n",
      "curr:  [  0 134  59  27   0   0  16  50  23]\n",
      "curr:  [  0   8 169   8 103   0  21]\n",
      "curr:  [  0   8 257   0   4   0  17   0  23]\n",
      "curr:  [  0 206  75   0   0   0   0   1  27]\n",
      "curr:  [  0   2 232   0  19   0  56]\n",
      "curr:  [  0   7 219   0  33  17  28   0   5]\n",
      "curr:  [  0 229  80]\n",
      "curr:  [  0   5 238   0   0   0  44   0  22]\n",
      "curr:  [  0   0  59  42   0 103  12   0  70  23]\n",
      "curr:  [  0   0  44  97   0   0  65   0 103]\n",
      "curr:  [  0  12  38  23   0 103  46   0   4  83]\n",
      "curr:  [  0  19 270  20]\n",
      "curr:  [  0   0  30   0   0 103   3   0  70 103]\n",
      "curr:  [  0   0 105   0 103   0  32   1  68]\n",
      "curr:  [  0   4  60  68   0   0 114   0  63]\n",
      "curr:  [  0 177  70   0   8   2   0  24  28]\n",
      "curr:  [  0   0 180   0   0   0 129]\n",
      "curr:  [  0  12 117  63   0   0   0 103  14]\n",
      "curr:  [  0   0 140   0   0   0 169]\n",
      "curr:  [  0   0  25 134   0   0  73   0  77]\n",
      "curr:  [  0  40  52 208   7   0   0   2]\n",
      "curr:  [  0  28  11 205   0   0   0  65]\n",
      "curr:  [  0 113  20   0   0   0   0   0 176]\n",
      "curr:  [  0 112 101   0  41   0  55]\n",
      "curr:  [  0   0 309]\n",
      "curr:  [  0   0 186   0 115   0   6   2]\n",
      "curr:  [  0   0 128   0  20   0  28   0 133]\n",
      "curr:  [  0   0 309]\n",
      "curr:  [  0   0 261   0   0   0  48]\n",
      "curr:  [  0  40 104   0 130   0   0   0  35]\n",
      "curr:  [  0   3 182   4 104   0  16]\n",
      "curr:  [  0   0 308   0   0   0   0   0   1]\n",
      "curr:  [  0   0 309]\n",
      "curr:  [  0   0 309]\n",
      "curr:  [  0   0 291   0   0   0  18]\n",
      "curr:  [  0   0 309]\n",
      "curr:  [  0   0 309]\n",
      "curr:  [  0   0 309]\n",
      "curr:  [  0   0 309]\n",
      "curr:  [  0   0 309]\n",
      "curr:  [  0   0 144  43   5   0   0  40  77]\n",
      "curr:  [  0 228  44   0   0   0  28   0   9]\n",
      "curr:  [  0   0 109  54   0   0  75   0  71]\n",
      "curr:  [  0   0 221  34   0   0  30  24]\n",
      "curr:  [  0 144 143   0   0   0   0  22]\n",
      "curr:  [  0 135   5 106  36   0  27]\n",
      "curr:  [ 0 97 47 35 46  0 29 55]\n",
      "curr:  [  0  68 236   0   0   0   0   0   5]\n",
      "curr:  [  0   0 309]\n",
      "curr:  [  0   0 308   0   1]\n",
      "curr:  [  0   0 305   0   4]\n",
      "Train Accuracy:  0.8433518458020255\n",
      "Test Accuracy:  0.5793636196431856\n"
     ]
    }
   ],
   "source": [
    "whole_pipeline_divided(X,y, rows_factor, cols_factor, is_normalize_each_band=True, method_label_patch='center', weights=np.full((103),0.1))"
   ]
  }
 ],
 "metadata": {
  "kernelspec": {
   "display_name": "Python 3",
   "language": "python",
   "name": "python3"
  },
  "language_info": {
   "codemirror_mode": {
    "name": "ipython",
    "version": 3
   },
   "file_extension": ".py",
   "mimetype": "text/x-python",
   "name": "python",
   "nbconvert_exporter": "python",
   "pygments_lexer": "ipython3",
   "version": "3.8.0"
  }
 },
 "nbformat": 4,
 "nbformat_minor": 2
}
