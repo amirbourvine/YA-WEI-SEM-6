{
 "cells": [
  {
   "cell_type": "code",
   "execution_count": 1,
   "metadata": {},
   "outputs": [],
   "source": [
    "import sys\n",
    "sys.path.append('../utils/')\n",
    "sys.path.append('../paviaUTools/')\n",
    "\n",
    "import matplotlib.pyplot as plt\n",
    "from datasetLoader import datasetLoader\n",
    "import os\n",
    "import numpy as np\n",
    "from whole_pipeline import whole_pipeline_all, whole_pipeline_divided, whole_pipeline_divided_parallel\n",
    "import torch\n",
    "from plots import *\n",
    "from weights_anal import *\n",
    "\n",
    "import gc\n",
    "torch.cuda.empty_cache()\n",
    "gc.collect()\n",
    "\n",
    "%matplotlib inline\n",
    "device = torch.device(\"cuda\" if torch.cuda.is_available() else \"cpu\")"
   ]
  },
  {
   "cell_type": "code",
   "execution_count": 2,
   "metadata": {},
   "outputs": [],
   "source": [
    "parent_dir = os.path.join(os.getcwd(),\"..\")\n",
    "csv_path = os.path.join(parent_dir, 'datasets', 'paviaU.csv')\n",
    "gt_path = os.path.join(parent_dir, 'datasets', 'paviaU_gt.csv')\n",
    "# csv_path = os.path.join(parent_dir, 'datasets', 'pavia.csv')\n",
    "# gt_path = os.path.join(parent_dir, 'datasets', 'pavia_gt.csv')\n",
    "\n",
    "dsl = datasetLoader(csv_path, gt_path)\n",
    "\n",
    "df = dsl.read_dataset(gt=False)\n",
    "X = np.array(df)\n",
    "X = X.reshape((610,340, 103))\n",
    "# X = X.reshape((1096, 715, 102))\n",
    "\n",
    "df = dsl.read_dataset(gt=True)\n",
    "y = np.array(df)\n",
    "\n",
    "factor = 7\n",
    "rows_factor = factor\n",
    "cols_factor = factor\n",
    "\n",
    "X = torch.from_numpy(X)\n",
    "y = torch.from_numpy(y)\n",
    "\n",
    "X = X.to(device)\n",
    "y = y.to(device)"
   ]
  },
  {
   "cell_type": "code",
   "execution_count": 3,
   "metadata": {},
   "outputs": [
    {
     "ename": "AttributeError",
     "evalue": "type object 'HDDOnBands' has no attribute 'classicUnsurpervisedClustering'",
     "output_type": "error",
     "traceback": [
      "\u001b[0;31m---------------------------------------------------------------------------\u001b[0m",
      "\u001b[0;31mAttributeError\u001b[0m                            Traceback (most recent call last)",
      "Cell \u001b[0;32mIn[3], line 4\u001b[0m\n\u001b[1;32m      1\u001b[0m \u001b[39mimport\u001b[39;00m \u001b[39mgc\u001b[39;00m\n\u001b[1;32m      2\u001b[0m \u001b[39mfrom\u001b[39;00m \u001b[39mMetaLearner\u001b[39;00m \u001b[39mimport\u001b[39;00m HDDOnBands\n\u001b[0;32m----> 4\u001b[0m weights, dist_batches \u001b[39m=\u001b[39m HDDOnBands\u001b[39m.\u001b[39;49mclassicUnsurpervisedClustering(X, clusters_amount\u001b[39m=\u001b[39m\u001b[39m3\u001b[39m)\n\u001b[1;32m      6\u001b[0m \u001b[39m# print(dist_batches[1])\u001b[39;00m\n\u001b[1;32m      7\u001b[0m \n\u001b[1;32m      8\u001b[0m \n\u001b[1;32m      9\u001b[0m \u001b[39m# print(dist_batches)\u001b[39;00m\n\u001b[1;32m     11\u001b[0m train_acc,test_acc, test_preds,test_gt \u001b[39m=\u001b[39m whole_pipeline_divided_parallel(X,y, rows_factor, cols_factor, is_normalize_each_band\u001b[39m=\u001b[39m\u001b[39mTrue\u001b[39;00m, method_label_patch\u001b[39m=\u001b[39m\u001b[39m'\u001b[39m\u001b[39mmost_common\u001b[39m\u001b[39m'\u001b[39m, weights\u001b[39m=\u001b[39mweights, distance_batches\u001b[39m=\u001b[39m dist_batches)\n",
      "\u001b[0;31mAttributeError\u001b[0m: type object 'HDDOnBands' has no attribute 'classicUnsurpervisedClustering'"
     ]
    }
   ],
   "source": [
    "import gc\n",
    "from MetaLearner import HDDOnBands\n",
    "\n",
    "weights, dist_batches = HDDOnBands.classicUnsurpervisedClustering(X, clusters_amount=3)\n",
    "\n",
    "# print(dist_batches[1])\n",
    "\n",
    "\n",
    "# print(dist_batches)\n",
    "\n",
    "train_acc,test_acc, test_preds,test_gt = whole_pipeline_divided_parallel(X,y, rows_factor, cols_factor, is_normalize_each_band=True, method_label_patch='most_common', weights=weights, distance_batches= dist_batches)\n",
    "\n",
    "confusion_mat(test_gt,test_preds, range(1,10))\n"
   ]
  }
 ],
 "metadata": {
  "kernelspec": {
   "display_name": "Python 3",
   "language": "python",
   "name": "python3"
  },
  "language_info": {
   "codemirror_mode": {
    "name": "ipython",
    "version": 3
   },
   "file_extension": ".py",
   "mimetype": "text/x-python",
   "name": "python",
   "nbconvert_exporter": "python",
   "pygments_lexer": "ipython3",
   "version": "3.10.6"
  },
  "orig_nbformat": 4
 },
 "nbformat": 4,
 "nbformat_minor": 2
}
