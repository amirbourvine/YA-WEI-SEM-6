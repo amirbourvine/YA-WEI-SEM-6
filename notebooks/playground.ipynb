{
 "cells": [
  {
   "cell_type": "code",
   "execution_count": 1,
   "metadata": {},
   "outputs": [],
   "source": [
    "import sys\n",
    "sys.path.append('../utils/')\n",
    "sys.path.append('../paviaUTools/')\n",
    "\n",
    "import matplotlib.pyplot as plt\n",
    "from datasetLoader import datasetLoader\n",
    "import os\n",
    "import numpy as np\n",
    "from whole_pipeline import whole_pipeline_all, whole_pipeline_divided, whole_pipeline_divided_parallel\n",
    "import torch\n",
    "from plots import *\n",
    "from weights_anal import *\n",
    "\n",
    "import gc\n",
    "torch.cuda.empty_cache()\n",
    "gc.collect()\n",
    "\n",
    "%matplotlib inline\n",
    "device = torch.device(\"cuda\" if torch.cuda.is_available() else \"cpu\")"
   ]
  },
  {
   "cell_type": "code",
   "execution_count": 2,
   "metadata": {},
   "outputs": [],
   "source": [
    "parent_dir = os.path.join(os.getcwd(),\"..\")\n",
    "csv_path = os.path.join(parent_dir, 'datasets', 'paviaU.csv')\n",
    "gt_path = os.path.join(parent_dir, 'datasets', 'paviaU_gt.csv')\n",
    "# csv_path = os.path.join(parent_dir, 'datasets', 'pavia.csv')\n",
    "# gt_path = os.path.join(parent_dir, 'datasets', 'pavia_gt.csv')\n",
    "\n",
    "dsl = datasetLoader(csv_path, gt_path)\n",
    "\n",
    "df = dsl.read_dataset(gt=False)\n",
    "X = np.array(df)\n",
    "X = X.reshape((610,340, 103))\n",
    "# X = X.reshape((1096, 715, 102))\n",
    "\n",
    "df = dsl.read_dataset(gt=True)\n",
    "y = np.array(df)\n",
    "\n",
    "factor = 11\n",
    "rows_factor = factor\n",
    "cols_factor = factor\n",
    "\n",
    "X = torch.from_numpy(X)\n",
    "y = torch.from_numpy(y)\n",
    "\n",
    "X = X.to(device)\n",
    "y = y.to(device)"
   ]
  },
  {
   "cell_type": "code",
   "execution_count": 3,
   "metadata": {},
   "outputs": [
    {
     "name": "stdout",
     "output_type": "stream",
     "text": [
      "XXXXXXX IN METHOD XXXXXXXXX\n",
      "WHOLE METHOD TIME:  5.640012979507446\n",
      "XXXXXXX IN CLASSIFICATION XXXXXXXXX\n",
      "total classified:  34161\n",
      "total classified:  8590\n",
      "Train Accuracy:  0.9750300049764351\n",
      "Test Accuracy:  0.7840512223515715\n",
      "train_acc:  0.9750300049764351\n",
      "test_acc:  0.7840512223515715\n",
      "XXXXXXX IN METHOD XXXXXXXXX\n",
      "WHOLE METHOD TIME:  5.665869474411011\n",
      "XXXXXXX IN CLASSIFICATION XXXXXXXXX\n",
      "total classified:  34161\n",
      "total classified:  8590\n",
      "Train Accuracy:  0.9750300049764351\n",
      "Test Accuracy:  0.7840512223515715\n",
      "train_acc:  0.9750300049764351\n",
      "test_acc:  0.7840512223515715\n",
      "XXXXXXX IN METHOD XXXXXXXXX\n",
      "WHOLE METHOD TIME:  5.380541086196899\n",
      "XXXXXXX IN CLASSIFICATION XXXXXXXXX\n",
      "total classified:  34161\n",
      "total classified:  8590\n",
      "Train Accuracy:  0.9750300049764351\n",
      "Test Accuracy:  0.7840512223515715\n",
      "train_acc:  0.9750300049764351\n",
      "test_acc:  0.7840512223515715\n",
      "XXXXXXX IN METHOD XXXXXXXXX\n",
      "WHOLE METHOD TIME:  5.196009397506714\n",
      "XXXXXXX IN CLASSIFICATION XXXXXXXXX\n",
      "total classified:  34161\n",
      "total classified:  8590\n",
      "Train Accuracy:  0.9750300049764351\n",
      "Test Accuracy:  0.7840512223515715\n",
      "train_acc:  0.9750300049764351\n",
      "test_acc:  0.7840512223515715\n",
      "XXXXXXX IN METHOD XXXXXXXXX\n"
     ]
    },
    {
     "ename": "KeyboardInterrupt",
     "evalue": "",
     "output_type": "error",
     "traceback": [
      "\u001b[1;31m---------------------------------------------------------------------------\u001b[0m",
      "\u001b[1;31mKeyboardInterrupt\u001b[0m                         Traceback (most recent call last)",
      "Cell \u001b[1;32mIn[3], line 10\u001b[0m\n\u001b[0;32m      7\u001b[0m NUM\u001b[38;5;241m=\u001b[39m\u001b[38;5;241m10\u001b[39m\n\u001b[0;32m      9\u001b[0m \u001b[38;5;28;01mfor\u001b[39;00m _ \u001b[38;5;129;01min\u001b[39;00m \u001b[38;5;28mrange\u001b[39m(NUM):\n\u001b[1;32m---> 10\u001b[0m     train_acc,test_acc, test_preds,test_gt \u001b[38;5;241m=\u001b[39m \u001b[43mwhole_pipeline_all\u001b[49m\u001b[43m(\u001b[49m\u001b[43mX\u001b[49m\u001b[43m,\u001b[49m\u001b[43my\u001b[49m\u001b[43m,\u001b[49m\u001b[43m \u001b[49m\u001b[43mrows_factor\u001b[49m\u001b[43m,\u001b[49m\u001b[43m \u001b[49m\u001b[43mcols_factor\u001b[49m\u001b[43m,\u001b[49m\u001b[43m \u001b[49m\u001b[43mis_normalize_each_band\u001b[49m\u001b[38;5;241;43m=\u001b[39;49m\u001b[38;5;28;43;01mTrue\u001b[39;49;00m\u001b[43m,\u001b[49m\u001b[43m \u001b[49m\u001b[43mmethod_label_patch\u001b[49m\u001b[38;5;241;43m=\u001b[39;49m\u001b[38;5;124;43m'\u001b[39;49m\u001b[38;5;124;43mmost_common\u001b[39;49m\u001b[38;5;124;43m'\u001b[39;49m\u001b[43m,\u001b[49m\u001b[43m \u001b[49m\u001b[43mis_random\u001b[49m\u001b[38;5;241;43m=\u001b[39;49m\u001b[38;5;28;43;01mFalse\u001b[39;49;00m\u001b[43m)\u001b[49m\n\u001b[0;32m     11\u001b[0m     avg_acc_train \u001b[38;5;241m+\u001b[39m\u001b[38;5;241m=\u001b[39m train_acc\u001b[38;5;241m/\u001b[39mNUM\n\u001b[0;32m     12\u001b[0m     avg_acc_test \u001b[38;5;241m+\u001b[39m\u001b[38;5;241m=\u001b[39m test_acc\u001b[38;5;241m/\u001b[39mNUM\n",
      "File \u001b[1;32mc:\\Users\\amirb\\OneDrive\\Desktop\\SEM5\\YA-WEI PROJECT\\SEM6_START\\YA-WEI-SEM-6\\paviaUTools\\whole_pipeline.py:20\u001b[0m, in \u001b[0;36mwhole_pipeline_all\u001b[1;34m(X, y, rows_factor, cols_factor, is_normalize_each_band, method_label_patch, is_random)\u001b[0m\n\u001b[0;32m     17\u001b[0m \u001b[38;5;28mprint\u001b[39m(\u001b[38;5;124m\"\u001b[39m\u001b[38;5;124mXXXXXXX IN METHOD XXXXXXXXX\u001b[39m\u001b[38;5;124m\"\u001b[39m)\n\u001b[0;32m     18\u001b[0m st \u001b[38;5;241m=\u001b[39m time\u001b[38;5;241m.\u001b[39mtime()\n\u001b[1;32m---> 20\u001b[0m d_HDD, labels_padded, num_patches_in_row,y_patches \u001b[38;5;241m=\u001b[39m \u001b[43mmy_HDD_HDE\u001b[49m\u001b[38;5;241;43m.\u001b[39;49m\u001b[43mcalc_hdd\u001b[49m\u001b[43m(\u001b[49m\u001b[43m)\u001b[49m\n\u001b[0;32m     22\u001b[0m \u001b[38;5;28mprint\u001b[39m(\u001b[38;5;124m\"\u001b[39m\u001b[38;5;124mWHOLE METHOD TIME: \u001b[39m\u001b[38;5;124m\"\u001b[39m, time\u001b[38;5;241m.\u001b[39mtime()\u001b[38;5;241m-\u001b[39mst, flush\u001b[38;5;241m=\u001b[39m\u001b[38;5;28;01mTrue\u001b[39;00m)\n\u001b[0;32m     23\u001b[0m st \u001b[38;5;241m=\u001b[39m time\u001b[38;5;241m.\u001b[39mtime()\n",
      "File \u001b[1;32mc:\\Users\\amirb\\OneDrive\\Desktop\\SEM5\\YA-WEI PROJECT\\SEM6_START\\YA-WEI-SEM-6\\utils\\HDD_HDE.py:268\u001b[0m, in \u001b[0;36mHDD_HDE.calc_hdd\u001b[1;34m(self)\u001b[0m\n\u001b[0;32m    265\u001b[0m \u001b[38;5;28;01mdef\u001b[39;00m \u001b[38;5;21mcalc_hdd\u001b[39m(\u001b[38;5;28mself\u001b[39m):\n\u001b[0;32m    266\u001b[0m     distances,y_patches,num_patches_in_row, labels_padded \u001b[38;5;241m=\u001b[39m \u001b[38;5;28mself\u001b[39m\u001b[38;5;241m.\u001b[39mprepare()\n\u001b[1;32m--> 268\u001b[0m     hdd_mat \u001b[38;5;241m=\u001b[39m \u001b[43mHDD_HDE\u001b[49m\u001b[38;5;241;43m.\u001b[39;49m\u001b[43mrun_method\u001b[49m\u001b[43m(\u001b[49m\u001b[43mdistances\u001b[49m\u001b[43m)\u001b[49m\n\u001b[0;32m    270\u001b[0m     \u001b[38;5;28;01mreturn\u001b[39;00m hdd_mat, labels_padded, num_patches_in_row,y_patches\n",
      "File \u001b[1;32mc:\\Users\\amirb\\OneDrive\\Desktop\\SEM5\\YA-WEI PROJECT\\SEM6_START\\YA-WEI-SEM-6\\utils\\HDD_HDE.py:283\u001b[0m, in \u001b[0;36mHDD_HDE.run_method\u001b[1;34m(distances)\u001b[0m\n\u001b[0;32m    281\u001b[0m \u001b[38;5;28;01mdef\u001b[39;00m \u001b[38;5;21mrun_method\u001b[39m(distances):\n\u001b[0;32m    282\u001b[0m     P \u001b[38;5;241m=\u001b[39m HDD_HDE\u001b[38;5;241m.\u001b[39mcalc_P(distances, apply_2_norm\u001b[38;5;241m=\u001b[39mAPPLY_2_NORM)\n\u001b[1;32m--> 283\u001b[0m     HDE \u001b[38;5;241m=\u001b[39m \u001b[43mHDD_HDE\u001b[49m\u001b[38;5;241;43m.\u001b[39;49m\u001b[43mhde\u001b[49m\u001b[43m(\u001b[49m\u001b[43mdistances\u001b[49m\u001b[43m)\u001b[49m\n\u001b[0;32m    284\u001b[0m     \u001b[38;5;28;01mdel\u001b[39;00m distances\n\u001b[0;32m    285\u001b[0m     torch\u001b[38;5;241m.\u001b[39mabs(HDE, out\u001b[38;5;241m=\u001b[39mHDE)\n",
      "File \u001b[1;32mc:\\Users\\amirb\\OneDrive\\Desktop\\SEM5\\YA-WEI PROJECT\\SEM6_START\\YA-WEI-SEM-6\\utils\\HDD_HDE.py:119\u001b[0m, in \u001b[0;36mHDD_HDE.hde\u001b[1;34m(shortest_paths_mat)\u001b[0m\n\u001b[0;32m    116\u001b[0m \u001b[38;5;28;01mfor\u001b[39;00m k \u001b[38;5;129;01min\u001b[39;00m \u001b[38;5;28mrange\u001b[39m (\u001b[38;5;241m0\u001b[39m, CONST_K \u001b[38;5;241m+\u001b[39m \u001b[38;5;241m1\u001b[39m):\n\u001b[0;32m    117\u001b[0m     S \u001b[38;5;241m=\u001b[39m torch\u001b[38;5;241m.\u001b[39mfloat_power(S_keep, \u001b[38;5;241m2\u001b[39m \u001b[38;5;241m*\u001b[39m\u001b[38;5;241m*\u001b[39m (\u001b[38;5;241m-\u001b[39mk))\n\u001b[1;32m--> 119\u001b[0m     aux \u001b[38;5;241m=\u001b[39m torch\u001b[38;5;241m.\u001b[39mmatmul(\u001b[43mtorch\u001b[49m\u001b[38;5;241;43m.\u001b[39;49m\u001b[43mmatmul\u001b[49m\u001b[43m(\u001b[49m\u001b[43mU\u001b[49m\u001b[43m,\u001b[49m\u001b[43mtorch\u001b[49m\u001b[38;5;241;43m.\u001b[39;49m\u001b[43mdiag\u001b[49m\u001b[43m(\u001b[49m\u001b[43mS\u001b[49m\u001b[43m)\u001b[49m\u001b[43m)\u001b[49m,Vt)\n\u001b[0;32m    121\u001b[0m     aux \u001b[38;5;241m=\u001b[39m torch\u001b[38;5;241m.\u001b[39mt(torch\u001b[38;5;241m.\u001b[39msqrt((torch\u001b[38;5;241m.\u001b[39mwhere(aux \u001b[38;5;241m>\u001b[39m TOL, aux, torch\u001b[38;5;241m.\u001b[39mtensor([TOL], device\u001b[38;5;241m=\u001b[39mdevice)))))\n\u001b[0;32m    122\u001b[0m     X[k] \u001b[38;5;241m=\u001b[39m torch\u001b[38;5;241m.\u001b[39mt(torch\u001b[38;5;241m.\u001b[39mcat((aux, torch\u001b[38;5;241m.\u001b[39mreshape(torch\u001b[38;5;241m.\u001b[39mfull((shortest_paths_mat\u001b[38;5;241m.\u001b[39mshape[\u001b[38;5;241m0\u001b[39m],), \u001b[38;5;241m2\u001b[39m \u001b[38;5;241m*\u001b[39m\u001b[38;5;241m*\u001b[39m (k \u001b[38;5;241m*\u001b[39m ALPHA \u001b[38;5;241m-\u001b[39m \u001b[38;5;241m2\u001b[39m), device\u001b[38;5;241m=\u001b[39mdevice),(\u001b[38;5;241m1\u001b[39m, \u001b[38;5;241m-\u001b[39m\u001b[38;5;241m1\u001b[39m))), dim\u001b[38;5;241m=\u001b[39m\u001b[38;5;241m0\u001b[39m))\n",
      "\u001b[1;31mKeyboardInterrupt\u001b[0m: "
     ]
    }
   ],
   "source": [
    "import gc\n",
    "from MetaLearner import HDDOnBands\n",
    "\n",
    "avg_acc_train = 0.0\n",
    "avg_acc_test = 0.0\n",
    "\n",
    "NUM=10\n",
    "\n",
    "for _ in range(NUM):\n",
    "    train_acc,test_acc, test_preds,test_gt = whole_pipeline_all(X,y, rows_factor, cols_factor, is_normalize_each_band=True, method_label_patch='most_common', is_random=False)\n",
    "    avg_acc_train += train_acc/NUM\n",
    "    avg_acc_test += test_acc/NUM\n",
    "\n",
    "    print(\"train_acc: \", train_acc)\n",
    "    print(\"test_acc: \", test_acc)\n",
    "\n",
    "print(\"avg_acc_train: \", avg_acc_train)\n",
    "print(\"avg_acc_test: \", avg_acc_test)\n",
    "\n"
   ]
  }
 ],
 "metadata": {
  "kernelspec": {
   "display_name": "Python 3",
   "language": "python",
   "name": "python3"
  },
  "language_info": {
   "codemirror_mode": {
    "name": "ipython",
    "version": 3
   },
   "file_extension": ".py",
   "mimetype": "text/x-python",
   "name": "python",
   "nbconvert_exporter": "python",
   "pygments_lexer": "ipython3",
   "version": "3.8.0"
  },
  "orig_nbformat": 4
 },
 "nbformat": 4,
 "nbformat_minor": 2
}
