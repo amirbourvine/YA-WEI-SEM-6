{
 "cells": [
  {
   "cell_type": "code",
   "execution_count": 32,
   "metadata": {},
   "outputs": [
    {
     "name": "stdout",
     "output_type": "stream",
     "text": [
      "tensor([[ 0,  1,  2,  3],\n",
      "        [ 4,  5,  6,  7],\n",
      "        [ 8,  9, 10, 11]])\n"
     ]
    },
    {
     "ename": "ValueError",
     "evalue": "too many values to unpack (expected 2)",
     "output_type": "error",
     "traceback": [
      "\u001b[1;31m---------------------------------------------------------------------------\u001b[0m",
      "\u001b[1;31mValueError\u001b[0m                                Traceback (most recent call last)",
      "Cell \u001b[1;32mIn[32], line 34\u001b[0m\n\u001b[0;32m     31\u001b[0m \u001b[38;5;66;03m# Find the n largest subsets according to their sum\u001b[39;00m\n\u001b[0;32m     32\u001b[0m largest_subsets \u001b[38;5;241m=\u001b[39m findMaxCombinations(x, torch\u001b[38;5;241m.\u001b[39msum, max_batch_size, n)\n\u001b[1;32m---> 34\u001b[0m subset, value \u001b[38;5;241m=\u001b[39m largest_subsets\n\u001b[0;32m     36\u001b[0m \u001b[38;5;66;03m# Print the results\u001b[39;00m\n\u001b[0;32m     37\u001b[0m \u001b[38;5;28;01mfor\u001b[39;00m i \u001b[38;5;129;01min\u001b[39;00m \u001b[38;5;28mrange\u001b[39m(n):\n",
      "\u001b[1;31mValueError\u001b[0m: too many values to unpack (expected 2)"
     ]
    }
   ],
   "source": [
    "import sys\n",
    "sys.path.append('../utils/')\n",
    "from MetaLearner import findMaxCombinations\n",
    "\n",
    "import torch\n",
    "\n",
    "import itertools\n",
    "def findMaxCombinations(tensor, evaluate, max_batch_size, n):\n",
    "    # Generate all possible not empty subsets\n",
    "    all_subsets = []\n",
    "    indices = range(tensor.shape[-1])\n",
    "    for r in range(1, max_batch_size + 1):\n",
    "        subsets = torch.IntTensor(list(itertools.combinations(indices, r)))\n",
    "        all_subsets.extend(subsets)\n",
    "    \n",
    "    # Evaluate each subset using the provided evaluate function\n",
    "    evaluated_subsets = torch.FloatTensor([evaluate(torch.index_select(tensor, -1, subset)) for subset in all_subsets])\n",
    "\n",
    "    # find the n largest evaluated subsets\n",
    "    _, largest_subsets_indices = torch.topk(evaluated_subsets, n)\n",
    "\n",
    "    return [all_subsets[largest_subsets_indices[i].item()] for i in range(largest_subsets_indices.shape[0])]\n",
    "    torch.index_select(all_subsets, 0, largest_subsets_indices)\n",
    "\n",
    "x = torch.arange(3 * 4).view(3, 4)\n",
    "n = 3\n",
    "max_batch_size = 2\n",
    "\n",
    "print(x)\n",
    "\n",
    "# Find the n largest subsets according to their sum\n",
    "largest_subsets = findMaxCombinations(x, torch.sum, max_batch_size, n)\n",
    "\n",
    "subset, value = largest_subsets\n",
    "\n",
    "# Print the results\n",
    "for i in range(n):\n",
    "    print(subset[i], value[i])"
   ]
  }
 ],
 "metadata": {
  "kernelspec": {
   "display_name": "Python 3",
   "language": "python",
   "name": "python3"
  },
  "language_info": {
   "codemirror_mode": {
    "name": "ipython",
    "version": 3
   },
   "file_extension": ".py",
   "mimetype": "text/x-python",
   "name": "python",
   "nbconvert_exporter": "python",
   "pygments_lexer": "ipython3",
   "version": "3.9.13"
  }
 },
 "nbformat": 4,
 "nbformat_minor": 2
}
